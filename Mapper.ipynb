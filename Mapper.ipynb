{
 "cells": [
  {
   "cell_type": "code",
   "execution_count": null,
   "metadata": {},
   "outputs": [],
   "source": [
    "#!/usr/bin/env python\n",
    "\n",
    "from sys import stdin\n",
    "import re\n",
    "import os\n",
    "from main import preprocess\n",
    "\n",
    "for line in stdin:\n",
    "    \n",
    "    # Get the file path\n",
    "    doc_id = os.environ[\"map_input_file\"]\n",
    "    \n",
    "    # Get the name of the file from the path\n",
    "    doc_id = re.findall(r'\\w+', doc_id)[-1]\n",
    "    \n",
    "    words = [preprocess(w) for w in line.split()]\n",
    "    \n",
    "    for word in words:\n",
    "        print(\"%s\\t%s:1\" % (word.lower(), doc_id))"
   ]
  }
 ],
 "metadata": {
  "kernelspec": {
   "display_name": "Python 3",
   "language": "python",
   "name": "python3"
  },
  "language_info": {
   "codemirror_mode": {
    "name": "ipython",
    "version": 3
   },
   "file_extension": ".py",
   "mimetype": "text/x-python",
   "name": "python",
   "nbconvert_exporter": "python",
   "pygments_lexer": "ipython3",
   "version": "3.6.5"
  }
 },
 "nbformat": 4,
 "nbformat_minor": 2
}
