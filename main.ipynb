{
 "cells": [
  {
   "cell_type": "code",
   "execution_count": 1,
   "metadata": {},
   "outputs": [],
   "source": [
    "import re\n",
    "import os"
   ]
  },
  {
   "cell_type": "code",
   "execution_count": 2,
   "metadata": {},
   "outputs": [],
   "source": [
    "def preprocess(word):\n",
    "    #remove anything other than characters\n",
    "    word = re.sub(r'[^\\w]', '', word)\n",
    "    #make the existing words lower case\n",
    "    word = word.lower()\n",
    "    return word"
   ]
  },
  {
   "cell_type": "code",
   "execution_count": 3,
   "metadata": {},
   "outputs": [],
   "source": [
    "def positional_index(dir_path = \"docs\"):\n",
    "    words = []\n",
    "    index = {}\n",
    "    for docname in os.listdir(dir_path):\n",
    "        with open(os.path.join(dir_path, docname)) as f:\n",
    "            words = [preprocess(w) for w in f.read().split()]\n",
    "            for i, word in enumerate(words):\n",
    "                if word != \"\":\n",
    "                    index.setdefault(word, {}).setdefault(docname, []).append(i)\n",
    "    return index       "
   ]
  },
  {
   "cell_type": "code",
   "execution_count": 4,
   "metadata": {},
   "outputs": [],
   "source": [
    "index = positional_index()\n",
    "    "
   ]
  },
  {
   "cell_type": "code",
   "execution_count": 5,
   "metadata": {},
   "outputs": [],
   "source": [
    "def parse_query(query):\n",
    "    operators = []\n",
    "    operands = []\n",
    "    tokens = query.split()\n",
    "    for token in tokens:\n",
    "        if token == \"AND\" or token == \"OR\":\n",
    "            operators.append(token)\n",
    "        else:\n",
    "            operands.append(token)\n",
    "    \n",
    "    return operators, operands"
   ]
  },
  {
   "cell_type": "code",
   "execution_count": 15,
   "metadata": {},
   "outputs": [
    {
     "data": {
      "text/plain": [
       "{'as': {'doc2.txt': [0]},\n",
       " '100000': {'doc2.txt': [1]},\n",
       " 'people': {'doc2.txt': [2, 60]},\n",
       " 'gathered': {'doc2.txt': [3]},\n",
       " 'in': {'doc2.txt': [4, 82], 'img_readme.txt': [7, 10]},\n",
       " 'the': {'doc2.txt': [5, 11, 15, 19], 'img_readme.txt': [25, 30, 51]},\n",
       " 'spanish': {'doc2.txt': [6]},\n",
       " 'city': {'doc2.txt': [7]},\n",
       " 'this': {'doc2.txt': [8, 27], 'img_readme.txt': [11]},\n",
       " 'week': {'doc2.txt': [9]},\n",
       " 'for': {'doc2.txt': [10, 90], 'img_readme.txt': [57]},\n",
       " 'mobile': {'doc2.txt': [12, 22]},\n",
       " 'world': {'doc2.txt': [13]},\n",
       " 'congress': {'doc2.txt': [14]},\n",
       " 'industrys': {'doc2.txt': [16]},\n",
       " 'annual': {'doc2.txt': [17]},\n",
       " 'conference': {'doc2.txt': [18]},\n",
       " 'next': {'doc2.txt': [20]},\n",
       " 'generation': {'doc2.txt': [21]},\n",
       " 'network': {'doc2.txt': [23]},\n",
       " 'took': {'doc2.txt': [24]},\n",
       " 'center': {'doc2.txt': [25]},\n",
       " 'stage': {'doc2.txt': [26]},\n",
       " 'is': {'doc2.txt': [28, 52], 'img_readme.txt': [35]},\n",
       " 'not': {'doc2.txt': [29], 'img_readme.txt': [72]},\n",
       " 'just': {'doc2.txt': [30]},\n",
       " 'to': {'doc2.txt': [31, 54, 77], 'img_readme.txt': [46, 48]},\n",
       " 'do': {'doc2.txt': [32]},\n",
       " 'with': {'doc2.txt': [33]},\n",
       " 'its': {'doc2.txt': [34, 37]},\n",
       " 'superfast': {'doc2.txt': [35]},\n",
       " 'speeds': {'doc2.txt': [36]},\n",
       " 'because': {'doc2.txt': [38]},\n",
       " '5g': {'doc2.txt': [39, 51, 87]},\n",
       " 'will': {'doc2.txt': [40, 47]},\n",
       " 'create': {'doc2.txt': [41]},\n",
       " 'a': {'doc2.txt': [42, 56, 70, 79], 'img_readme.txt': [1, 13, 18, 45]},\n",
       " 'ripple': {'doc2.txt': [43]},\n",
       " 'of': {'doc2.txt': [44, 66, 84], 'img_readme.txt': [28, 33]},\n",
       " 'developments': {'doc2.txt': [45]},\n",
       " 'that': {'doc2.txt': [46, 86]},\n",
       " 'change': {'doc2.txt': [48]},\n",
       " 'daily': {'doc2.txt': [49]},\n",
       " 'life': {'doc2.txt': [50, 85]},\n",
       " 'going': {'doc2.txt': [53, 76]},\n",
       " 'have': {'doc2.txt': [55]},\n",
       " 'massive': {'doc2.txt': [57]},\n",
       " 'impact': {'doc2.txt': [58]},\n",
       " 'on': {'doc2.txt': [59]},\n",
       " 'lives': {'doc2.txt': [61]},\n",
       " 'says': {'doc2.txt': [62]},\n",
       " 'laila': {'doc2.txt': [63]},\n",
       " 'worrell': {'doc2.txt': [64]},\n",
       " 'ceo': {'doc2.txt': [65]},\n",
       " 'altran': {'doc2.txt': [67]},\n",
       " 'north': {'doc2.txt': [68]},\n",
       " 'america': {'doc2.txt': [69]},\n",
       " 'hightech': {'doc2.txt': [71]},\n",
       " 'engineering': {'doc2.txt': [72]},\n",
       " 'company': {'doc2.txt': [73]},\n",
       " 'we': {'doc2.txt': [74], 'img_readme.txt': [22, 53]},\n",
       " 'are': {'doc2.txt': [75], 'img_readme.txt': [63, 71]},\n",
       " 'see': {'doc2.txt': [78]},\n",
       " 'big': {'doc2.txt': [80]},\n",
       " 'advance': {'doc2.txt': [81]},\n",
       " 'quality': {'doc2.txt': [83]},\n",
       " 'can': {'doc2.txt': [88], 'img_readme.txt': [41]},\n",
       " 'deliver': {'doc2.txt': [89]},\n",
       " 'individuals': {'doc2.txt': [91]},\n",
       " 'contains': {'img_readme.txt': [0]},\n",
       " '71': {'img_readme.txt': [2, 4]},\n",
       " 'by': {'img_readme.txt': [3]},\n",
       " 'binary': {'img_readme.txt': [5]},\n",
       " 'image': {'img_readme.txt': [6]},\n",
       " 'plain': {'img_readme.txt': [8]},\n",
       " 'text': {'img_readme.txt': [9]},\n",
       " 'file': {'img_readme.txt': [12]},\n",
       " 'means': {'img_readme.txt': [15, 20]},\n",
       " '1': {'img_readme.txt': [16, 29]},\n",
       " 'and': {'img_readme.txt': [17, 61, 69]},\n",
       " 'space': {'img_readme.txt': [19]},\n",
       " '0': {'img_readme.txt': [21]},\n",
       " 'only': {'img_readme.txt': [23]},\n",
       " 'consider': {'img_readme.txt': [24]},\n",
       " 'connected': {'img_readme.txt': [26, 65, 74]},\n",
       " 'components': {'img_readme.txt': [27, 34, 52]},\n",
       " 'total': {'img_readme.txt': [31]},\n",
       " 'number': {'img_readme.txt': [32]},\n",
       " 'less': {'img_readme.txt': [36]},\n",
       " 'than': {'img_readme.txt': [37]},\n",
       " '26': {'img_readme.txt': [38]},\n",
       " 'therefore': {'img_readme.txt': [39, 59]},\n",
       " 'you': {'img_readme.txt': [40]},\n",
       " 'use': {'img_readme.txt': [42, 54]},\n",
       " 'letters': {'img_readme.txt': [43]},\n",
       " 'from': {'img_readme.txt': [44]},\n",
       " 'z': {'img_readme.txt': [47]},\n",
       " 'identify': {'img_readme.txt': [49]},\n",
       " 'all': {'img_readme.txt': [50]},\n",
       " '4': {'img_readme.txt': [55]},\n",
       " 'connectivity': {'img_readme.txt': [56]},\n",
       " 'considered': {'img_readme.txt': [64, 73]},\n",
       " 'however': {'img_readme.txt': [67]}}"
      ]
     },
     "execution_count": 15,
     "metadata": {},
     "output_type": "execute_result"
    }
   ],
   "source": [
    "index"
   ]
  },
  {
   "cell_type": "code",
   "execution_count": 24,
   "metadata": {},
   "outputs": [],
   "source": [
    "def search(query, index):\n",
    "    operators, operands = parse_query(query)\n",
    "    \n",
    "    print(operators)\n",
    "    print(operands)\n",
    "    start = True\n",
    "    for operator in operators:\n",
    "        operand1 = operands.pop(0)\n",
    "        operand2 = operands.pop(0)\n",
    "        if start:\n",
    "            set1 = set(index[operand1].keys())\n",
    "            start = False\n",
    "        set2 = set(index[operand2].keys())\n",
    "        if operator == \"AND\":\n",
    "            set1 = set1.intersection(set2)\n",
    "        else:\n",
    "            set1 = set1.union(set2)\n",
    "        operands.insert(0, set1)\n",
    "    return set1"
   ]
  },
  {
   "cell_type": "code",
   "execution_count": 29,
   "metadata": {},
   "outputs": [
    {
     "name": "stdout",
     "output_type": "stream",
     "text": [
      "['AND', 'OR']\n",
      "['gathered', 'in', 'the']\n",
      "{'doc2.txt', 'img_readme.txt'}\n"
     ]
    }
   ],
   "source": [
    "print(search(\"gathered AND in OR the\",index ))\n",
    "\n"
   ]
  },
  {
   "cell_type": "code",
   "execution_count": 8,
   "metadata": {},
   "outputs": [
    {
     "ename": "NameError",
     "evalue": "name 'people' is not defined",
     "output_type": "error",
     "traceback": [
      "\u001b[1;31m---------------------------------------------------------------------------\u001b[0m",
      "\u001b[1;31mNameError\u001b[0m                                 Traceback (most recent call last)",
      "\u001b[1;32m<ipython-input-8-8480bd6fd131>\u001b[0m in \u001b[0;36m<module>\u001b[1;34m()\u001b[0m\n\u001b[1;32m----> 1\u001b[1;33m \u001b[0ms\u001b[0m \u001b[1;33m=\u001b[0m \u001b[0mset\u001b[0m\u001b[1;33m(\u001b[0m\u001b[0mpeople\u001b[0m\u001b[1;33m.\u001b[0m\u001b[0mkeys\u001b[0m\u001b[1;33m(\u001b[0m\u001b[1;33m)\u001b[0m\u001b[1;33m)\u001b[0m\u001b[1;33m\u001b[0m\u001b[0m\n\u001b[0m\u001b[0;32m      2\u001b[0m \u001b[0ms\u001b[0m\u001b[1;33m\u001b[0m\u001b[0m\n",
      "\u001b[1;31mNameError\u001b[0m: name 'people' is not defined"
     ]
    }
   ],
   "source": []
  },
  {
   "cell_type": "code",
   "execution_count": null,
   "metadata": {},
   "outputs": [],
   "source": []
  },
  {
   "cell_type": "code",
   "execution_count": null,
   "metadata": {},
   "outputs": [],
   "source": []
  }
 ],
 "metadata": {
  "kernelspec": {
   "display_name": "Python 3",
   "language": "python",
   "name": "python3"
  },
  "language_info": {
   "codemirror_mode": {
    "name": "ipython",
    "version": 3
   },
   "file_extension": ".py",
   "mimetype": "text/x-python",
   "name": "python",
   "nbconvert_exporter": "python",
   "pygments_lexer": "ipython3",
   "version": "3.6.5"
  }
 },
 "nbformat": 4,
 "nbformat_minor": 2
}
