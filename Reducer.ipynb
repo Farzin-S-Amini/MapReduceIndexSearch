{
 "cells": [
  {
   "cell_type": "code",
   "execution_count": 1,
   "metadata": {},
   "outputs": [],
   "source": [
    "from sys import stdin\n",
    "import re\n",
    "\n",
    "index = {}\n",
    "\n",
    "for line in stdin:\n",
    "    \n",
    "    word, postings = line.split('\\t')\n",
    "    index.setdefault(word, {})\n",
    "    for posting in postings.split(','):\n",
    "        doc_id, count = posting.split(':')\n",
    "        count = int(count)\n",
    "        \n",
    "        index[word].setdefault(doc_id, 0)\n",
    "        index[word][doc_id] += count\n",
    "\n",
    "for word in index:\n",
    "    postings_list = [\"%s:%d\" % (doc_id, index[word][doc_id])\n",
    "                         for doc_id in index[word]]\n",
    "\n",
    "    postings = ','.join(postings_list)\n",
    "    print('%s\\t%s' % (word, postings))"
   ]
  },
  {
   "cell_type": "code",
   "execution_count": null,
   "metadata": {},
   "outputs": [],
   "source": []
  }
 ],
 "metadata": {
  "kernelspec": {
   "display_name": "Python 3",
   "language": "python",
   "name": "python3"
  },
  "language_info": {
   "codemirror_mode": {
    "name": "ipython",
    "version": 3
   },
   "file_extension": ".py",
   "mimetype": "text/x-python",
   "name": "python",
   "nbconvert_exporter": "python",
   "pygments_lexer": "ipython3",
   "version": "3.6.5"
  }
 },
 "nbformat": 4,
 "nbformat_minor": 2
}
